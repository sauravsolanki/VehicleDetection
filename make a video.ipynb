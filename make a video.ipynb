{
 "cells": [
  {
   "cell_type": "code",
   "execution_count": 9,
   "id": "21deebb8",
   "metadata": {},
   "outputs": [],
   "source": [
    "import os\n",
    "import sys\n",
    "import numpy as np\n",
    "np.random.seed(0)\n",
    "import matplotlib.pyplot as plt\n",
    "import cv2\n",
    "import argparse\n",
    "\n",
    "# Root directory of the project\n",
    "\n",
    "# Import Mask RCNN\n",
    "sys.path.append(ROOT_DIR)  # To find local version of the library\n",
    "from mrcnn.config import Config\n",
    "from mrcnn import utils\n",
    "import mrcnn.model as modellib\n",
    "from mrcnn import visualize\n",
    "from mrcnn.model import log\n",
    "\n",
    "# sys.path.append(os.path.join(ROOT_DIR, \"samples/coco/\"))\n",
    "# import coco"
   ]
  },
  {
   "cell_type": "code",
   "execution_count": 10,
   "id": "7b9e7a95",
   "metadata": {},
   "outputs": [],
   "source": [
    "def apply_mask(image, mask, color, alpha=0.5):\n",
    "    \"\"\"apply mask to image\"\"\"\n",
    "    for n, c in enumerate(color):\n",
    "        image[:, :, n] = np.where(\n",
    "            mask == 1,\n",
    "            image[:, :, n] * (1 - alpha) + alpha * c,\n",
    "            image[:, :, n]\n",
    "        )\n",
    "    return image"
   ]
  },
  {
   "cell_type": "code",
   "execution_count": 34,
   "id": "166a9ad6",
   "metadata": {},
   "outputs": [],
   "source": [
    "# based on https://github.com/matterport/Mask_RCNN/blob/master/mrcnn/visualize.py\n",
    "# and https://github.com/markjay4k/Mask-RCNN-series/blob/887404d990695a7bf7f180e3ffaee939fbd9a1cf/visualize_cv.py\n",
    "\n",
    "# colors = [tuple(255 * np.random.rand(3)) for _ in range(3)]\n",
    "colors = [(245, 178, 137),(107, 139, 202),(186, 233, 154)]\n",
    "\n",
    "def display_instances(image, boxes, masks, class_ids, class_names, scores=None):\n",
    "    assert boxes.shape[0] == masks.shape[-1] == class_ids.shape[0]\n",
    "    \n",
    "    N = boxes.shape[0]\n",
    "\n",
    "    for i in range(N):\n",
    "        if not np.any(boxes[i]):\n",
    "            continue\n",
    "        \n",
    "        y1, x1, y2, x2 = boxes[i]\n",
    "        label = class_names[class_ids[i]]\n",
    "        \n",
    "        color = colors[class_ids[i]-1]\n",
    "        \n",
    "        score = scores[i] if scores is not None else None\n",
    "        caption = \"{} {:.3f}\".format(label, score) if score else label\n",
    "\n",
    "        # Mask\n",
    "        mask = masks[:, :, i]\n",
    "        image = apply_mask(image, mask, color)\n",
    "        image = cv2.rectangle(image, (x1, y1), (x2, y2), color, 2)\n",
    "        image = cv2.putText(image, caption, (x1, y1), cv2.FONT_HERSHEY_COMPLEX, 0.7, color, 2)\n",
    "    return image"
   ]
  },
  {
   "cell_type": "code",
   "execution_count": 28,
   "id": "4d5c058c",
   "metadata": {},
   "outputs": [],
   "source": [
    "# define the prediction configuration\n",
    "class PredictionConfig(Config):\n",
    "    # define the name of the configuration\n",
    "    NAME = \"kangaroo_cfg\"\n",
    "    # number of classes (background + kangaroo)\n",
    "    NUM_CLASSES = 1 + 3\n",
    "    # simplify GPU config\n",
    "    GPU_COUNT = 1\n",
    "    IMAGES_PER_GPU = 1"
   ]
  },
  {
   "cell_type": "code",
   "execution_count": 24,
   "id": "86237555",
   "metadata": {},
   "outputs": [],
   "source": [
    "# parser = argparse.ArgumentParser(description='MaskRCNN Video Object Detection/Instance Segmentation')\n",
    "# parser.add_argument('-v', '--video_path', type=str, default='', help='Path to video. If None camera will be used')\n",
    "# parser.add_argument('-sp', '--save_path', type=str, default='', help= 'Path to save the output. If None output won\\'t be saved')\n",
    "# parser.add_argument('-s', '--show', default=True, action=\"store_false\", help='Show output')\n",
    "# args = parser.parse_args()\n",
    "\n",
    "args ={\n",
    "    \"video_path\":\"./dataset/mathikere/VID_20210323_183723.mp4\",\n",
    "    \"save_path\":\"output.avi\",\n",
    "    \"MODEL_PATH\":\"./models/mathikere/mask_rcnn_kangaroo_cfg_0005.h5\",\n",
    "    \"show\":True \n",
    "}"
   ]
  },
  {
   "cell_type": "code",
   "execution_count": 15,
   "id": "0f99cd48",
   "metadata": {},
   "outputs": [],
   "source": [
    "class_names = ['BG',\"person\",\"twowheeler\",\"fourwheeler\" ]\n",
    "config = PredictionConfig()\n",
    "\n",
    "# Create model object in inference mode.\n",
    "model = modellib.MaskRCNN(mode=\"inference\", model_dir=\"./\", config=config)\n",
    "\n",
    "# Load weights trained on MS-COCO\n",
    "model.load_weights(args[\"MODEL_PATH\"], by_name=True)"
   ]
  },
  {
   "cell_type": "code",
   "execution_count": 36,
   "id": "a45cfaf3",
   "metadata": {},
   "outputs": [
    {
     "name": "stdout",
     "output_type": "stream",
     "text": [
      "1\n",
      "2\n",
      "3\n",
      "4\n",
      "5\n",
      "6\n",
      "7\n",
      "8\n",
      "9\n",
      "10\n",
      "11\n",
      "12\n",
      "13\n",
      "14\n",
      "15\n"
     ]
    }
   ],
   "source": [
    "count = 0\n",
    "if args[\"video_path\"] != '':\n",
    "    cap = cv2.VideoCapture(args[\"video_path\"])\n",
    "else:\n",
    "    cap = cv2.VideoCapture(0)\n",
    "\n",
    "if args[\"save_path\"]:\n",
    "    width = int(cap.get(3))\n",
    "    height = int(cap.get(4))\n",
    "    fps = 3 #cap.get(cv2.CAP_PROP_FPS)\n",
    "    out = cv2.VideoWriter(args[\"save_path\"], cv2.VideoWriter_fourcc('M','J','P','G'), fps, (width, height))\n",
    "\n",
    "try:\n",
    "    while cap.isOpened():\n",
    "        ret, image = cap.read()\n",
    "        if ret:\n",
    "            results = model.detect([image], verbose=0)\n",
    "            r = results[0]\n",
    "            image = display_instances(image, r['rois'], r['masks'], r['class_ids'], class_names, r['scores'])\n",
    "\n",
    "            if False and args[\"show\"]:\n",
    "                cv2.imshow('MaskRCNN Object Detection/Instance Segmentation', image)\n",
    "                if cv2.waitKey(1) & 0xFF == ord('q'):\n",
    "                    break\n",
    "\n",
    "            if args[\"save_path\"]:\n",
    "                out.write(image)\n",
    "                count+=1\n",
    "                print(count)\n",
    "                if count==15:\n",
    "                    break\n",
    "        else:\n",
    "            break\n",
    "except Exception as e:\n",
    "    print(e)\n",
    "finally:\n",
    "    cap.release()\n",
    "    if args[\"save_path\"]:\n",
    "        out.release()\n",
    "    cv2.destroyAllWindows()"
   ]
  },
  {
   "cell_type": "code",
   "execution_count": null,
   "id": "8acfa319",
   "metadata": {},
   "outputs": [],
   "source": []
  }
 ],
 "metadata": {
  "kernelspec": {
   "display_name": "Python 3",
   "language": "python",
   "name": "python3"
  },
  "language_info": {
   "codemirror_mode": {
    "name": "ipython",
    "version": 3
   },
   "file_extension": ".py",
   "mimetype": "text/x-python",
   "name": "python",
   "nbconvert_exporter": "python",
   "pygments_lexer": "ipython3",
   "version": "3.8.10"
  }
 },
 "nbformat": 4,
 "nbformat_minor": 5
}
